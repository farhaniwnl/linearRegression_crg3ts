{
 "cells": [
  {
   "cell_type": "code",
   "execution_count": 191,
   "metadata": {},
   "outputs": [],
   "source": [
    "import pandas as pd\n",
    "import seaborn as sns\n",
    "import numpy as np\n",
    "from sklearn import linear_model\n",
    "from sklearn.model_selection import train_test_split\n",
    "from sklearn.preprocessing import PolynomialFeatures"
   ]
  },
  {
   "cell_type": "code",
   "execution_count": 192,
   "metadata": {},
   "outputs": [
    {
     "data": {
      "text/html": [
       "<div>\n",
       "<style scoped>\n",
       "    .dataframe tbody tr th:only-of-type {\n",
       "        vertical-align: middle;\n",
       "    }\n",
       "\n",
       "    .dataframe tbody tr th {\n",
       "        vertical-align: top;\n",
       "    }\n",
       "\n",
       "    .dataframe thead th {\n",
       "        text-align: right;\n",
       "    }\n",
       "</style>\n",
       "<table border=\"1\" class=\"dataframe\">\n",
       "  <thead>\n",
       "    <tr style=\"text-align: right;\">\n",
       "      <th></th>\n",
       "      <th>Unnamed: 0</th>\n",
       "      <th>Make</th>\n",
       "      <th>Make_Year</th>\n",
       "      <th>Color</th>\n",
       "      <th>Body_Type</th>\n",
       "      <th>Mileage_Run</th>\n",
       "      <th>No_of_Owners</th>\n",
       "      <th>Seating_Capacity</th>\n",
       "      <th>Fuel_Type</th>\n",
       "      <th>Transmission</th>\n",
       "      <th>Transmission_Type</th>\n",
       "      <th>Price</th>\n",
       "    </tr>\n",
       "  </thead>\n",
       "  <tbody>\n",
       "    <tr>\n",
       "      <th>0</th>\n",
       "      <td>1</td>\n",
       "      <td>Volkswagen</td>\n",
       "      <td>2017</td>\n",
       "      <td>silver</td>\n",
       "      <td>sedan</td>\n",
       "      <td>44611</td>\n",
       "      <td>1st</td>\n",
       "      <td>5</td>\n",
       "      <td>diesel</td>\n",
       "      <td>7-Speed</td>\n",
       "      <td>Automatic</td>\n",
       "      <td>657000</td>\n",
       "    </tr>\n",
       "    <tr>\n",
       "      <th>1</th>\n",
       "      <td>2</td>\n",
       "      <td>Hyundai</td>\n",
       "      <td>2016</td>\n",
       "      <td>red</td>\n",
       "      <td>crossover</td>\n",
       "      <td>20305</td>\n",
       "      <td>1st</td>\n",
       "      <td>5</td>\n",
       "      <td>petrol</td>\n",
       "      <td>5-Speed</td>\n",
       "      <td>Manual</td>\n",
       "      <td>682000</td>\n",
       "    </tr>\n",
       "    <tr>\n",
       "      <th>2</th>\n",
       "      <td>3</td>\n",
       "      <td>Honda</td>\n",
       "      <td>2019</td>\n",
       "      <td>white</td>\n",
       "      <td>suv</td>\n",
       "      <td>29540</td>\n",
       "      <td>2nd</td>\n",
       "      <td>5</td>\n",
       "      <td>petrol</td>\n",
       "      <td>5-Speed</td>\n",
       "      <td>Manual</td>\n",
       "      <td>793000</td>\n",
       "    </tr>\n",
       "    <tr>\n",
       "      <th>3</th>\n",
       "      <td>4</td>\n",
       "      <td>Renault</td>\n",
       "      <td>2017</td>\n",
       "      <td>bronze</td>\n",
       "      <td>hatchback</td>\n",
       "      <td>35680</td>\n",
       "      <td>1st</td>\n",
       "      <td>5</td>\n",
       "      <td>petrol</td>\n",
       "      <td>5-Speed</td>\n",
       "      <td>Manual</td>\n",
       "      <td>414000</td>\n",
       "    </tr>\n",
       "    <tr>\n",
       "      <th>4</th>\n",
       "      <td>5</td>\n",
       "      <td>Hyundai</td>\n",
       "      <td>2017</td>\n",
       "      <td>orange</td>\n",
       "      <td>hatchback</td>\n",
       "      <td>25126</td>\n",
       "      <td>1st</td>\n",
       "      <td>5</td>\n",
       "      <td>petrol</td>\n",
       "      <td>5-Speed</td>\n",
       "      <td>Manual</td>\n",
       "      <td>515000</td>\n",
       "    </tr>\n",
       "  </tbody>\n",
       "</table>\n",
       "</div>"
      ],
      "text/plain": [
       "   Unnamed: 0        Make  Make_Year   Color  Body_Type  Mileage_Run  \\\n",
       "0           1  Volkswagen       2017  silver      sedan        44611   \n",
       "1           2     Hyundai       2016     red  crossover        20305   \n",
       "2           3       Honda       2019   white        suv        29540   \n",
       "3           4     Renault       2017  bronze  hatchback        35680   \n",
       "4           5     Hyundai       2017  orange  hatchback        25126   \n",
       "\n",
       "  No_of_Owners  Seating_Capacity Fuel_Type Transmission Transmission_Type  \\\n",
       "0          1st                 5    diesel      7-Speed         Automatic   \n",
       "1          1st                 5    petrol      5-Speed            Manual   \n",
       "2          2nd                 5    petrol      5-Speed            Manual   \n",
       "3          1st                 5    petrol      5-Speed            Manual   \n",
       "4          1st                 5    petrol      5-Speed            Manual   \n",
       "\n",
       "    Price  \n",
       "0  657000  \n",
       "1  682000  \n",
       "2  793000  \n",
       "3  414000  \n",
       "4  515000  "
      ]
     },
     "execution_count": 192,
     "metadata": {},
     "output_type": "execute_result"
    }
   ],
   "source": [
    "data = pd.read_csv(\"data/cars_hw.csv\")\n",
    "data.head()"
   ]
  },
  {
   "cell_type": "code",
   "execution_count": 193,
   "metadata": {},
   "outputs": [
    {
     "data": {
      "text/plain": [
       "count    9.760000e+02\n",
       "mean     7.410195e+05\n",
       "std      3.673234e+05\n",
       "min      1.880000e+05\n",
       "25%      4.757500e+05\n",
       "50%      6.665000e+05\n",
       "75%      8.830000e+05\n",
       "max      2.941000e+06\n",
       "Name: Price, dtype: float64"
      ]
     },
     "execution_count": 193,
     "metadata": {},
     "output_type": "execute_result"
    }
   ],
   "source": [
    "data[\"Price\"].describe()"
   ]
  },
  {
   "cell_type": "code",
   "execution_count": 194,
   "metadata": {},
   "outputs": [
    {
     "data": {
      "text/plain": [
       "Index(['Make', 'Color', 'Body_Type', 'No_of_Owners', 'Seating_Capacity',\n",
       "       'Fuel_Type', 'Transmission', 'Transmission_Type', 'price_ihs',\n",
       "       'mileage_ihs', 'age'],\n",
       "      dtype='object')"
      ]
     },
     "execution_count": 194,
     "metadata": {},
     "output_type": "execute_result"
    }
   ],
   "source": [
    "cleaned_data = data\n",
    "cleaned_data['price_ihs'] = np.arcsinh(cleaned_data['Price'])\n",
    "cleaned_data['mileage_ihs'] = np.arcsinh(cleaned_data['Mileage_Run'])\n",
    "cleaned_data['age'] = max(cleaned_data['Make_Year'])-cleaned_data['Make_Year']\n",
    "cleaned_data = cleaned_data.drop(['Price','Mileage_Run','Make_Year','Unnamed: 0'],axis=1)\n",
    "cleaned_data.columns"
   ]
  },
  {
   "cell_type": "code",
   "execution_count": 195,
   "metadata": {},
   "outputs": [
    {
     "data": {
      "text/plain": [
       "<Axes: xlabel='Price', ylabel='Density'>"
      ]
     },
     "execution_count": 195,
     "metadata": {},
     "output_type": "execute_result"
    },
    {
     "data": {
      "image/png": "[encoded data removed]",
      "text/plain": [
       "<Figure size 640x480 with 1 Axes>"
      ]
     },
     "metadata": {},
     "output_type": "display_data"
    }
   ],
   "source": [
    "sns.kdeplot(data = data, x='Price', hue = 'Make')"
   ]
  },
  {
   "cell_type": "code",
   "execution_count": 196,
   "metadata": {},
   "outputs": [
    {
     "data": {
      "text/html": [
       "<div>\n",
       "<style scoped>\n",
       "    .dataframe tbody tr th:only-of-type {\n",
       "        vertical-align: middle;\n",
       "    }\n",
       "\n",
       "    .dataframe tbody tr th {\n",
       "        vertical-align: top;\n",
       "    }\n",
       "\n",
       "    .dataframe thead th {\n",
       "        text-align: right;\n",
       "    }\n",
       "</style>\n",
       "<table border=\"1\" class=\"dataframe\">\n",
       "  <thead>\n",
       "    <tr style=\"text-align: right;\">\n",
       "      <th></th>\n",
       "      <th>count</th>\n",
       "      <th>mean</th>\n",
       "      <th>std</th>\n",
       "      <th>min</th>\n",
       "      <th>25%</th>\n",
       "      <th>50%</th>\n",
       "      <th>75%</th>\n",
       "      <th>max</th>\n",
       "    </tr>\n",
       "    <tr>\n",
       "      <th>Make</th>\n",
       "      <th></th>\n",
       "      <th></th>\n",
       "      <th></th>\n",
       "      <th></th>\n",
       "      <th></th>\n",
       "      <th></th>\n",
       "      <th></th>\n",
       "      <th></th>\n",
       "    </tr>\n",
       "  </thead>\n",
       "  <tbody>\n",
       "    <tr>\n",
       "      <th>Chevrolet</th>\n",
       "      <td>6.0</td>\n",
       "      <td>4.535000e+05</td>\n",
       "      <td>2.466064e+05</td>\n",
       "      <td>267000.0</td>\n",
       "      <td>288500.0</td>\n",
       "      <td>345500.0</td>\n",
       "      <td>537500.0</td>\n",
       "      <td>892000.0</td>\n",
       "    </tr>\n",
       "    <tr>\n",
       "      <th>Datsun</th>\n",
       "      <td>3.0</td>\n",
       "      <td>2.896667e+05</td>\n",
       "      <td>1.050397e+04</td>\n",
       "      <td>279000.0</td>\n",
       "      <td>284500.0</td>\n",
       "      <td>290000.0</td>\n",
       "      <td>295000.0</td>\n",
       "      <td>300000.0</td>\n",
       "    </tr>\n",
       "    <tr>\n",
       "      <th>Ford</th>\n",
       "      <td>52.0</td>\n",
       "      <td>7.211731e+05</td>\n",
       "      <td>1.409277e+05</td>\n",
       "      <td>290000.0</td>\n",
       "      <td>635000.0</td>\n",
       "      <td>707500.0</td>\n",
       "      <td>787000.0</td>\n",
       "      <td>1066000.0</td>\n",
       "    </tr>\n",
       "    <tr>\n",
       "      <th>Honda</th>\n",
       "      <td>73.0</td>\n",
       "      <td>7.989726e+05</td>\n",
       "      <td>2.665091e+05</td>\n",
       "      <td>316000.0</td>\n",
       "      <td>581000.0</td>\n",
       "      <td>785000.0</td>\n",
       "      <td>915000.0</td>\n",
       "      <td>1537000.0</td>\n",
       "    </tr>\n",
       "    <tr>\n",
       "      <th>Hyundai</th>\n",
       "      <td>305.0</td>\n",
       "      <td>6.918918e+05</td>\n",
       "      <td>2.791597e+05</td>\n",
       "      <td>248000.0</td>\n",
       "      <td>485000.0</td>\n",
       "      <td>638000.0</td>\n",
       "      <td>837000.0</td>\n",
       "      <td>1742000.0</td>\n",
       "    </tr>\n",
       "    <tr>\n",
       "      <th>Jeep</th>\n",
       "      <td>4.0</td>\n",
       "      <td>1.499500e+06</td>\n",
       "      <td>1.525134e+05</td>\n",
       "      <td>1290000.0</td>\n",
       "      <td>1447500.0</td>\n",
       "      <td>1529500.0</td>\n",
       "      <td>1581500.0</td>\n",
       "      <td>1649000.0</td>\n",
       "    </tr>\n",
       "    <tr>\n",
       "      <th>Kia</th>\n",
       "      <td>8.0</td>\n",
       "      <td>1.614750e+06</td>\n",
       "      <td>1.190567e+05</td>\n",
       "      <td>1369000.0</td>\n",
       "      <td>1579000.0</td>\n",
       "      <td>1628500.0</td>\n",
       "      <td>1705750.0</td>\n",
       "      <td>1741000.0</td>\n",
       "    </tr>\n",
       "    <tr>\n",
       "      <th>MG Motors</th>\n",
       "      <td>35.0</td>\n",
       "      <td>1.869457e+06</td>\n",
       "      <td>1.216611e+05</td>\n",
       "      <td>1589000.0</td>\n",
       "      <td>1786500.0</td>\n",
       "      <td>1848000.0</td>\n",
       "      <td>1978000.0</td>\n",
       "      <td>2019000.0</td>\n",
       "    </tr>\n",
       "    <tr>\n",
       "      <th>Mahindra</th>\n",
       "      <td>18.0</td>\n",
       "      <td>1.100167e+06</td>\n",
       "      <td>1.755493e+05</td>\n",
       "      <td>796000.0</td>\n",
       "      <td>1037000.0</td>\n",
       "      <td>1094500.0</td>\n",
       "      <td>1157000.0</td>\n",
       "      <td>1465000.0</td>\n",
       "    </tr>\n",
       "    <tr>\n",
       "      <th>Maruti Suzuki</th>\n",
       "      <td>293.0</td>\n",
       "      <td>5.887850e+05</td>\n",
       "      <td>2.160199e+05</td>\n",
       "      <td>237000.0</td>\n",
       "      <td>411000.0</td>\n",
       "      <td>527000.0</td>\n",
       "      <td>764000.0</td>\n",
       "      <td>1163000.0</td>\n",
       "    </tr>\n",
       "    <tr>\n",
       "      <th>Nissan</th>\n",
       "      <td>4.0</td>\n",
       "      <td>8.842500e+05</td>\n",
       "      <td>2.895599e+05</td>\n",
       "      <td>475000.0</td>\n",
       "      <td>782500.0</td>\n",
       "      <td>978000.0</td>\n",
       "      <td>1079750.0</td>\n",
       "      <td>1106000.0</td>\n",
       "    </tr>\n",
       "    <tr>\n",
       "      <th>Renault</th>\n",
       "      <td>68.0</td>\n",
       "      <td>6.625735e+05</td>\n",
       "      <td>2.148273e+05</td>\n",
       "      <td>287000.0</td>\n",
       "      <td>475000.0</td>\n",
       "      <td>644000.0</td>\n",
       "      <td>801000.0</td>\n",
       "      <td>1164000.0</td>\n",
       "    </tr>\n",
       "    <tr>\n",
       "      <th>Skoda</th>\n",
       "      <td>5.0</td>\n",
       "      <td>1.136000e+06</td>\n",
       "      <td>1.070175e+06</td>\n",
       "      <td>436000.0</td>\n",
       "      <td>466000.0</td>\n",
       "      <td>538000.0</td>\n",
       "      <td>1299000.0</td>\n",
       "      <td>2941000.0</td>\n",
       "    </tr>\n",
       "    <tr>\n",
       "      <th>Tata</th>\n",
       "      <td>23.0</td>\n",
       "      <td>1.055217e+06</td>\n",
       "      <td>5.578305e+05</td>\n",
       "      <td>188000.0</td>\n",
       "      <td>779500.0</td>\n",
       "      <td>869000.0</td>\n",
       "      <td>1552000.0</td>\n",
       "      <td>2100000.0</td>\n",
       "    </tr>\n",
       "    <tr>\n",
       "      <th>Toyota</th>\n",
       "      <td>50.0</td>\n",
       "      <td>8.003400e+05</td>\n",
       "      <td>2.466900e+05</td>\n",
       "      <td>368000.0</td>\n",
       "      <td>526250.0</td>\n",
       "      <td>894000.0</td>\n",
       "      <td>1023000.0</td>\n",
       "      <td>1092000.0</td>\n",
       "    </tr>\n",
       "    <tr>\n",
       "      <th>Volkswagen</th>\n",
       "      <td>29.0</td>\n",
       "      <td>6.058276e+05</td>\n",
       "      <td>1.198312e+05</td>\n",
       "      <td>402000.0</td>\n",
       "      <td>542000.0</td>\n",
       "      <td>607000.0</td>\n",
       "      <td>699000.0</td>\n",
       "      <td>790000.0</td>\n",
       "    </tr>\n",
       "  </tbody>\n",
       "</table>\n",
       "</div>"
      ],
      "text/plain": [
       "               count          mean           std        min        25%  \\\n",
       "Make                                                                     \n",
       "Chevrolet        6.0  4.535000e+05  2.466064e+05   267000.0   288500.0   \n",
       "Datsun           3.0  2.896667e+05  1.050397e+04   279000.0   284500.0   \n",
       "Ford            52.0  7.211731e+05  1.409277e+05   290000.0   635000.0   \n",
       "Honda           73.0  7.989726e+05  2.665091e+05   316000.0   581000.0   \n",
       "Hyundai        305.0  6.918918e+05  2.791597e+05   248000.0   485000.0   \n",
       "Jeep             4.0  1.499500e+06  1.525134e+05  1290000.0  1447500.0   \n",
       "Kia              8.0  1.614750e+06  1.190567e+05  1369000.0  1579000.0   \n",
       "MG Motors       35.0  1.869457e+06  1.216611e+05  1589000.0  1786500.0   \n",
       "Mahindra        18.0  1.100167e+06  1.755493e+05   796000.0  1037000.0   \n",
       "Maruti Suzuki  293.0  5.887850e+05  2.160199e+05   237000.0   411000.0   \n",
       "Nissan           4.0  8.842500e+05  2.895599e+05   475000.0   782500.0   \n",
       "Renault         68.0  6.625735e+05  2.148273e+05   287000.0   475000.0   \n",
       "Skoda            5.0  1.136000e+06  1.070175e+06   436000.0   466000.0   \n",
       "Tata            23.0  1.055217e+06  5.578305e+05   188000.0   779500.0   \n",
       "Toyota          50.0  8.003400e+05  2.466900e+05   368000.0   526250.0   \n",
       "Volkswagen      29.0  6.058276e+05  1.198312e+05   402000.0   542000.0   \n",
       "\n",
       "                     50%        75%        max  \n",
       "Make                                            \n",
       "Chevrolet       345500.0   537500.0   892000.0  \n",
       "Datsun          290000.0   295000.0   300000.0  \n",
       "Ford            707500.0   787000.0  1066000.0  \n",
       "Honda           785000.0   915000.0  1537000.0  \n",
       "Hyundai         638000.0   837000.0  1742000.0  \n",
       "Jeep           1529500.0  1581500.0  1649000.0  \n",
       "Kia            1628500.0  1705750.0  1741000.0  \n",
       "MG Motors      1848000.0  1978000.0  2019000.0  \n",
       "Mahindra       1094500.0  1157000.0  1465000.0  \n",
       "Maruti Suzuki   527000.0   764000.0  1163000.0  \n",
       "Nissan          978000.0  1079750.0  1106000.0  \n",
       "Renault         644000.0   801000.0  1164000.0  \n",
       "Skoda           538000.0  1299000.0  2941000.0  \n",
       "Tata            869000.0  1552000.0  2100000.0  \n",
       "Toyota          894000.0  1023000.0  1092000.0  \n",
       "Volkswagen      607000.0   699000.0   790000.0  "
      ]
     },
     "execution_count": 196,
     "metadata": {},
     "output_type": "execute_result"
    }
   ],
   "source": [
    "data[\"Price\"].groupby(data['Make']).describe()"
   ]
  },
  {
   "cell_type": "code",
   "execution_count": 197,
   "metadata": {},
   "outputs": [
    {
     "data": {
      "text/plain": [
       "<Axes: xlabel='price_ihs', ylabel='Density'>"
      ]
     },
     "execution_count": 197,
     "metadata": {},
     "output_type": "execute_result"
    },
    {
     "data": {
      "image/png": "[encoded data removed]",
      "text/plain": [
       "<Figure size 640x480 with 1 Axes>"
      ]
     },
     "metadata": {},
     "output_type": "display_data"
    }
   ],
   "source": [
    "sns.kdeplot(data = cleaned_data,x=\"price_ihs\",hue = 'Make' )"
   ]
  },
  {
   "cell_type": "code",
   "execution_count": 198,
   "metadata": {},
   "outputs": [
    {
     "data": {
      "text/html": [
       "<div>\n",
       "<style scoped>\n",
       "    .dataframe tbody tr th:only-of-type {\n",
       "        vertical-align: middle;\n",
       "    }\n",
       "\n",
       "    .dataframe tbody tr th {\n",
       "        vertical-align: top;\n",
       "    }\n",
       "\n",
       "    .dataframe thead th {\n",
       "        text-align: right;\n",
       "    }\n",
       "</style>\n",
       "<table border=\"1\" class=\"dataframe\">\n",
       "  <thead>\n",
       "    <tr style=\"text-align: right;\">\n",
       "      <th></th>\n",
       "      <th>count</th>\n",
       "      <th>mean</th>\n",
       "      <th>std</th>\n",
       "      <th>min</th>\n",
       "      <th>25%</th>\n",
       "      <th>50%</th>\n",
       "      <th>75%</th>\n",
       "      <th>max</th>\n",
       "    </tr>\n",
       "    <tr>\n",
       "      <th>Make</th>\n",
       "      <th></th>\n",
       "      <th></th>\n",
       "      <th></th>\n",
       "      <th></th>\n",
       "      <th></th>\n",
       "      <th></th>\n",
       "      <th></th>\n",
       "      <th></th>\n",
       "    </tr>\n",
       "  </thead>\n",
       "  <tbody>\n",
       "    <tr>\n",
       "      <th>Chevrolet</th>\n",
       "      <td>6.0</td>\n",
       "      <td>13.613042</td>\n",
       "      <td>0.480975</td>\n",
       "      <td>13.188151</td>\n",
       "      <td>13.261539</td>\n",
       "      <td>13.445433</td>\n",
       "      <td>13.864828</td>\n",
       "      <td>14.394369</td>\n",
       "    </tr>\n",
       "    <tr>\n",
       "      <th>Datsun</th>\n",
       "      <td>3.0</td>\n",
       "      <td>13.269194</td>\n",
       "      <td>0.036311</td>\n",
       "      <td>13.232114</td>\n",
       "      <td>13.251449</td>\n",
       "      <td>13.270783</td>\n",
       "      <td>13.287734</td>\n",
       "      <td>13.304685</td>\n",
       "    </tr>\n",
       "    <tr>\n",
       "      <th>Ford</th>\n",
       "      <td>52.0</td>\n",
       "      <td>14.161427</td>\n",
       "      <td>0.210895</td>\n",
       "      <td>13.270783</td>\n",
       "      <td>14.054527</td>\n",
       "      <td>14.162640</td>\n",
       "      <td>14.269131</td>\n",
       "      <td>14.572571</td>\n",
       "    </tr>\n",
       "    <tr>\n",
       "      <th>Honda</th>\n",
       "      <td>73.0</td>\n",
       "      <td>14.229465</td>\n",
       "      <td>0.336972</td>\n",
       "      <td>13.356645</td>\n",
       "      <td>13.965653</td>\n",
       "      <td>14.266586</td>\n",
       "      <td>14.419827</td>\n",
       "      <td>14.938490</td>\n",
       "    </tr>\n",
       "    <tr>\n",
       "      <th>Hyundai</th>\n",
       "      <td>305.0</td>\n",
       "      <td>14.061658</td>\n",
       "      <td>0.398781</td>\n",
       "      <td>13.114331</td>\n",
       "      <td>13.785051</td>\n",
       "      <td>14.059241</td>\n",
       "      <td>14.330727</td>\n",
       "      <td>15.063692</td>\n",
       "    </tr>\n",
       "    <tr>\n",
       "      <th>Jeep</th>\n",
       "      <td>4.0</td>\n",
       "      <td>14.909738</td>\n",
       "      <td>0.105084</td>\n",
       "      <td>14.763300</td>\n",
       "      <td>14.876417</td>\n",
       "      <td>14.933413</td>\n",
       "      <td>14.966733</td>\n",
       "      <td>15.008827</td>\n",
       "    </tr>\n",
       "    <tr>\n",
       "      <th>Kia</th>\n",
       "      <td>8.0</td>\n",
       "      <td>14.985324</td>\n",
       "      <td>0.076877</td>\n",
       "      <td>14.822738</td>\n",
       "      <td>14.965389</td>\n",
       "      <td>14.996253</td>\n",
       "      <td>15.042662</td>\n",
       "      <td>15.063117</td>\n",
       "    </tr>\n",
       "    <tr>\n",
       "      <th>MG Motors</th>\n",
       "      <td>35.0</td>\n",
       "      <td>15.132199</td>\n",
       "      <td>0.066263</td>\n",
       "      <td>14.971763</td>\n",
       "      <td>15.088892</td>\n",
       "      <td>15.122762</td>\n",
       "      <td>15.190744</td>\n",
       "      <td>15.211260</td>\n",
       "    </tr>\n",
       "    <tr>\n",
       "      <th>Mahindra</th>\n",
       "      <td>18.0</td>\n",
       "      <td>14.592100</td>\n",
       "      <td>0.159906</td>\n",
       "      <td>14.280502</td>\n",
       "      <td>14.544955</td>\n",
       "      <td>14.598828</td>\n",
       "      <td>14.654396</td>\n",
       "      <td>14.890513</td>\n",
       "    </tr>\n",
       "    <tr>\n",
       "      <th>Maruti Suzuki</th>\n",
       "      <td>293.0</td>\n",
       "      <td>13.911280</td>\n",
       "      <td>0.371409</td>\n",
       "      <td>13.068963</td>\n",
       "      <td>13.619496</td>\n",
       "      <td>13.868103</td>\n",
       "      <td>14.239470</td>\n",
       "      <td>14.659661</td>\n",
       "    </tr>\n",
       "    <tr>\n",
       "      <th>Nissan</th>\n",
       "      <td>4.0</td>\n",
       "      <td>14.334341</td>\n",
       "      <td>0.392610</td>\n",
       "      <td>13.764217</td>\n",
       "      <td>14.230922</td>\n",
       "      <td>14.481870</td>\n",
       "      <td>14.585290</td>\n",
       "      <td>14.609408</td>\n",
       "    </tr>\n",
       "    <tr>\n",
       "      <th>Renault</th>\n",
       "      <td>68.0</td>\n",
       "      <td>14.044009</td>\n",
       "      <td>0.331717</td>\n",
       "      <td>13.260385</td>\n",
       "      <td>13.764211</td>\n",
       "      <td>14.068542</td>\n",
       "      <td>14.286754</td>\n",
       "      <td>14.660520</td>\n",
       "    </tr>\n",
       "    <tr>\n",
       "      <th>Skoda</th>\n",
       "      <td>5.0</td>\n",
       "      <td>14.334011</td>\n",
       "      <td>0.827046</td>\n",
       "      <td>13.678545</td>\n",
       "      <td>13.745088</td>\n",
       "      <td>13.888761</td>\n",
       "      <td>14.770252</td>\n",
       "      <td>15.587407</td>\n",
       "    </tr>\n",
       "    <tr>\n",
       "      <th>Tata</th>\n",
       "      <td>23.0</td>\n",
       "      <td>14.406552</td>\n",
       "      <td>0.615090</td>\n",
       "      <td>12.837344</td>\n",
       "      <td>14.259530</td>\n",
       "      <td>14.368246</td>\n",
       "      <td>14.944517</td>\n",
       "      <td>15.250595</td>\n",
       "    </tr>\n",
       "    <tr>\n",
       "      <th>Toyota</th>\n",
       "      <td>50.0</td>\n",
       "      <td>14.228654</td>\n",
       "      <td>0.360112</td>\n",
       "      <td>13.508985</td>\n",
       "      <td>13.864561</td>\n",
       "      <td>14.396608</td>\n",
       "      <td>14.531374</td>\n",
       "      <td>14.596669</td>\n",
       "    </tr>\n",
       "    <tr>\n",
       "      <th>Volkswagen</th>\n",
       "      <td>29.0</td>\n",
       "      <td>13.987889</td>\n",
       "      <td>0.203839</td>\n",
       "      <td>13.597355</td>\n",
       "      <td>13.896168</td>\n",
       "      <td>14.009431</td>\n",
       "      <td>14.150553</td>\n",
       "      <td>14.272935</td>\n",
       "    </tr>\n",
       "  </tbody>\n",
       "</table>\n",
       "</div>"
      ],
      "text/plain": [
       "               count       mean       std        min        25%        50%  \\\n",
       "Make                                                                         \n",
       "Chevrolet        6.0  13.613042  0.480975  13.188151  13.261539  13.445433   \n",
       "Datsun           3.0  13.269194  0.036311  13.232114  13.251449  13.270783   \n",
       "Ford            52.0  14.161427  0.210895  13.270783  14.054527  14.162640   \n",
       "Honda           73.0  14.229465  0.336972  13.356645  13.965653  14.266586   \n",
       "Hyundai        305.0  14.061658  0.398781  13.114331  13.785051  14.059241   \n",
       "Jeep             4.0  14.909738  0.105084  14.763300  14.876417  14.933413   \n",
       "Kia              8.0  14.985324  0.076877  14.822738  14.965389  14.996253   \n",
       "MG Motors       35.0  15.132199  0.066263  14.971763  15.088892  15.122762   \n",
       "Mahindra        18.0  14.592100  0.159906  14.280502  14.544955  14.598828   \n",
       "Maruti Suzuki  293.0  13.911280  0.371409  13.068963  13.619496  13.868103   \n",
       "Nissan           4.0  14.334341  0.392610  13.764217  14.230922  14.481870   \n",
       "Renault         68.0  14.044009  0.331717  13.260385  13.764211  14.068542   \n",
       "Skoda            5.0  14.334011  0.827046  13.678545  13.745088  13.888761   \n",
       "Tata            23.0  14.406552  0.615090  12.837344  14.259530  14.368246   \n",
       "Toyota          50.0  14.228654  0.360112  13.508985  13.864561  14.396608   \n",
       "Volkswagen      29.0  13.987889  0.203839  13.597355  13.896168  14.009431   \n",
       "\n",
       "                     75%        max  \n",
       "Make                                 \n",
       "Chevrolet      13.864828  14.394369  \n",
       "Datsun         13.287734  13.304685  \n",
       "Ford           14.269131  14.572571  \n",
       "Honda          14.419827  14.938490  \n",
       "Hyundai        14.330727  15.063692  \n",
       "Jeep           14.966733  15.008827  \n",
       "Kia            15.042662  15.063117  \n",
       "MG Motors      15.190744  15.211260  \n",
       "Mahindra       14.654396  14.890513  \n",
       "Maruti Suzuki  14.239470  14.659661  \n",
       "Nissan         14.585290  14.609408  \n",
       "Renault        14.286754  14.660520  \n",
       "Skoda          14.770252  15.587407  \n",
       "Tata           14.944517  15.250595  \n",
       "Toyota         14.531374  14.596669  \n",
       "Volkswagen     14.150553  14.272935  "
      ]
     },
     "execution_count": 198,
     "metadata": {},
     "output_type": "execute_result"
    }
   ],
   "source": [
    "cleaned_data['price_ihs'].groupby(cleaned_data['Make']).describe()"
   ]
  },
  {
   "cell_type": "markdown",
   "metadata": {},
   "source": [
    "MG Motors, Kia, and Jeep are the most expensive vehicles. All Prices are above 13 for the most part"
   ]
  },
  {
   "cell_type": "code",
   "execution_count": 199,
   "metadata": {},
   "outputs": [],
   "source": [
    "N = cleaned_data.shape[0]\n",
    "cleaned_data = cleaned_data.sample(frac=1, random_state=100) \n",
    "train_size = int(.8*N)"
   ]
  },
  {
   "cell_type": "code",
   "execution_count": 200,
   "metadata": {},
   "outputs": [],
   "source": [
    "cleaned_data_train = cleaned_data[:train_size]\n",
    "y_train = cleaned_data_train['price_ihs']\n",
    "\n",
    "cleaned_data_test = cleaned_data[train_size:]\n",
    "y_test = cleaned_data_test['price_ihs']"
   ]
  },
  {
   "cell_type": "code",
   "execution_count": 201,
   "metadata": {},
   "outputs": [
    {
     "data": {
      "text/plain": [
       "0.45254262356326824"
      ]
     },
     "execution_count": 201,
     "metadata": {},
     "output_type": "execute_result"
    }
   ],
   "source": [
    "vars = ['age','mileage_ihs','Seating_Capacity']\n",
    "x_train = cleaned_data_train.loc[:,vars]\n",
    "regress_total = linear_model.LinearRegression().fit(x_train,y_train)\n",
    "x_test = cleaned_data_test.loc[:,vars]\n",
    "y_pred = regress_total.predict(x_test)\n",
    "regress_total.score(x_test,y_test)"
   ]
  },
  {
   "cell_type": "code",
   "execution_count": 202,
   "metadata": {},
   "outputs": [
    {
     "data": {
      "text/plain": [
       "0.3339265473590646"
      ]
     },
     "execution_count": 202,
     "metadata": {},
     "output_type": "execute_result"
    }
   ],
   "source": [
    "RMSE = np.sqrt( np.mean( (y_test - y_pred)**2 ))\n",
    "RMSE\n"
   ]
  },
  {
   "cell_type": "markdown",
   "metadata": {},
   "source": [
    "First Model\n",
    "- R^2 = 0.45254262356326824\n",
    "- RMSE = 0.3339265473590646"
   ]
  },
  {
   "cell_type": "code",
   "execution_count": 203,
   "metadata": {},
   "outputs": [],
   "source": [
    "vars2 = ['Make','Body_Type','Color','Fuel_Type','Transmission','Transmission_Type']\n",
    "dummies = pd.DataFrame([])\n",
    "for var in vars2: \n",
    "    new_dummies = pd.get_dummies( cleaned_data.loc[:,var], drop_first=True, dtype=int)\n",
    "    dummies = pd.concat([dummies, new_dummies], axis=1, ignore_index=True) \n",
    "    x_train2 = dummies.iloc[0:train_size,:]\n",
    "    x_test2 = dummies.iloc[train_size:,:]"
   ]
  },
  {
   "cell_type": "code",
   "execution_count": 204,
   "metadata": {},
   "outputs": [
    {
     "data": {
      "text/plain": [
       "0.6298129532407459"
      ]
     },
     "execution_count": 204,
     "metadata": {},
     "output_type": "execute_result"
    }
   ],
   "source": [
    "regression = linear_model.LinearRegression().fit(x_train2,y_train) # Run regression\n",
    "y_pred2 = regression.predict(x_test2)\n",
    "regression.score(x_test2,y_test)"
   ]
  },
  {
   "cell_type": "code",
   "execution_count": 205,
   "metadata": {},
   "outputs": [
    {
     "data": {
      "text/plain": [
       "0.27459106425227287"
      ]
     },
     "execution_count": 205,
     "metadata": {},
     "output_type": "execute_result"
    }
   ],
   "source": [
    "RMSE = np.sqrt( np.mean( (y_test - y_pred2)**2 ))\n",
    "RMSE"
   ]
  },
  {
   "cell_type": "markdown",
   "metadata": {},
   "source": [
    "Second Model\n",
    "- R^2 = 0.6298129532407459\n",
    "- RMSE = 0.27459106425227287"
   ]
  },
  {
   "cell_type": "code",
   "execution_count": 206,
   "metadata": {},
   "outputs": [
    {
     "data": {
      "text/plain": [
       "0.7999206763763921"
      ]
     },
     "execution_count": 206,
     "metadata": {},
     "output_type": "execute_result"
    }
   ],
   "source": [
    "x_train_total = pd.concat([x_train, x_train2],axis=1, ignore_index=True)\n",
    "x_test_total = pd.concat([x_test, x_test2],axis=1, ignore_index=True)\n",
    "regress_total = linear_model.LinearRegression().fit(x_train_total,y_train) \n",
    "y_pred_total = regress_total.predict(x_test_total)\n",
    "regress_total.score(x_test_total,y_test)"
   ]
  },
  {
   "cell_type": "code",
   "execution_count": 207,
   "metadata": {},
   "outputs": [
    {
     "data": {
      "text/plain": [
       "0.20187237686198914"
      ]
     },
     "execution_count": 207,
     "metadata": {},
     "output_type": "execute_result"
    }
   ],
   "source": [
    "rmse_total = np.sqrt( np.mean( (y_test - y_pred_total)**2 ))\n",
    "rmse_total"
   ]
  },
  {
   "cell_type": "markdown",
   "metadata": {},
   "source": [
    "Third Model\n",
    "- R^2 = 0.7999206763763921\n",
    "- RMSE = 0.20187237686198914\n",
    "\n",
    "This model is clearly the one that performs the best."
   ]
  },
  {
   "cell_type": "code",
   "execution_count": 208,
   "metadata": {},
   "outputs": [
    {
     "name": "stdout",
     "output_type": "stream",
     "text": [
      "1  Rsq:  0.7999206763763921\n",
      "1 RMSE:  0.20187237686198914\n",
      "2  Rsq:  0.8025408094604634\n",
      "2 RMSE:  0.20054621389085792\n",
      "3  Rsq:  0.7996599800455877\n",
      "3 RMSE:  0.20200385035768978\n",
      "4  Rsq:  -8416370553.553814\n",
      "4 RMSE:  41403.610592248784\n"
     ]
    }
   ],
   "source": [
    "for d in np.arange(1,5):\n",
    "    expander = PolynomialFeatures(degree=d,include_bias=False)\n",
    "    z = expander.fit_transform(x_test)\n",
    "    n = expander.get_feature_names_out()\n",
    "    x_test_new = pd.DataFrame(data=z, columns = n)\n",
    "    z = expander.fit_transform(x_train)\n",
    "    n = expander.get_feature_names_out()\n",
    "\n",
    "    x_train_new = pd.DataFrame(data=z, columns = n)\n",
    "    x_train_new.reset_index(drop=True, inplace=True)\n",
    "    x_train2.reset_index(drop=True, inplace=True)\n",
    "    x_train_total = pd.concat([x_train_new, x_train2], axis=1, ignore_index=True)\n",
    "\n",
    "    x_test_new.reset_index(drop=True, inplace=True)\n",
    "    x_test2.reset_index(drop=True, inplace=True)\n",
    "    x_test_total = pd.concat([x_test_new, x_test2], axis=1, ignore_index=True)\n",
    "    \n",
    "    regress_total = linear_model.LinearRegression().fit(x_train_total,y_train) # Run regression\n",
    "    print(d, ' Rsq: ', regress_total.score(x_test_total,y_test)) # R2\n",
    "    y_pred_total = regress_total.predict(x_test_total)\n",
    "    rmse_total = np.sqrt( np.mean( (y_test - y_pred_total)**2 ))\n",
    "    print(d, 'RMSE: ', rmse_total) # R2"
   ]
  },
  {
   "cell_type": "markdown",
   "metadata": {},
   "source": [
    "The best degree would be degree 2, with an:\n",
    "\n",
    "- R^2 = 0.8025408094604634\n",
    "- RMSE = 0.20054621389085792"
   ]
  },
  {
   "cell_type": "markdown",
   "metadata": {},
   "source": []
  },
  {
   "cell_type": "markdown",
   "metadata": {},
   "source": []
  }
 ],
 "metadata": {
  "kernelspec": {
   "display_name": "Python 3",
   "language": "python",
   "name": "python3"
  },
  "language_info": {
   "codemirror_mode": {
    "name": "ipython",
    "version": 3
   },
   "file_extension": ".py",
   "mimetype": "text/x-python",
   "name": "python",
   "nbconvert_exporter": "python",
   "pygments_lexer": "ipython3",
   "version": "3.10.11"
  }
 },
 "nbformat": 4,
 "nbformat_minor": 2
}
